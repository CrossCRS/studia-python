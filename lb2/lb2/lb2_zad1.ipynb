{
 "cells": [
  {
   "cell_type": "code",
   "execution_count": 16,
   "id": "9722361a-42e6-4ff2-b10d-87feac23680d",
   "metadata": {
    "tags": []
   },
   "outputs": [
    {
     "data": {
      "text/plain": [
       "{'a': 6,\n",
       " 'l': 1,\n",
       " ' ': 6,\n",
       " 'm': 2,\n",
       " 'k': 3,\n",
       " 'o': 2,\n",
       " 't': 1,\n",
       " ',': 2,\n",
       " 'p': 1,\n",
       " 's': 1,\n",
       " 'c': 1,\n",
       " 'h': 1,\n",
       " 'i': 3,\n",
       " 'r': 1,\n",
       " 'y': 1,\n",
       " 'b': 1,\n",
       " '.': 1}"
      ]
     },
     "execution_count": 16,
     "metadata": {},
     "output_type": "execute_result"
    }
   ],
   "source": [
    "text = \"Ala ma kota, psa, chomika i rybki.\".lower()\n",
    "d = {}\n",
    "\n",
    "# Słabe rozwiązanie\n",
    "# d = dict([ [i, text.count(i)] for i in text ])\n",
    "\n",
    "#for c in text:\n",
    "#    if c not in d.keys():\n",
    "#        d[c] = text.count(c)\n",
    "\n",
    "#s = \"abcdefghijklmnopqrstuvwxyz\"\n",
    "#for c in s:\n",
    "#    d[c] = text.count(c)\n",
    "\n",
    "# Moje rozwiązanie\n",
    "for c in text:\n",
    "    if c in d.keys():\n",
    "        d[c] += 1\n",
    "    else:\n",
    "        d[c] = 1\n",
    "        \n",
    "d"
   ]
  },
  {
   "cell_type": "code",
   "execution_count": null,
   "id": "98f906d8-1b39-4edb-b6d4-25d5dd39c3f9",
   "metadata": {},
   "outputs": [],
   "source": []
  }
 ],
 "metadata": {
  "kernelspec": {
   "display_name": "Python 3 (ipykernel)",
   "language": "python",
   "name": "python3"
  },
  "language_info": {
   "codemirror_mode": {
    "name": "ipython",
    "version": 3
   },
   "file_extension": ".py",
   "mimetype": "text/x-python",
   "name": "python",
   "nbconvert_exporter": "python",
   "pygments_lexer": "ipython3",
   "version": "3.10.9"
  }
 },
 "nbformat": 4,
 "nbformat_minor": 5
}

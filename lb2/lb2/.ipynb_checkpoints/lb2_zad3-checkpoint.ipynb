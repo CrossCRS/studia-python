{
 "cells": [
  {
   "cell_type": "code",
   "execution_count": 9,
   "id": "124244a2-c4ed-4ad9-9d73-1f96b4df1e0b",
   "metadata": {
    "tags": []
   },
   "outputs": [
    {
     "name": "stdout",
     "output_type": "stream",
     "text": [
      "ACCAGGATGA\n",
      "|||.||...|\n",
      "TGGACCAGGT\n"
     ]
    }
   ],
   "source": [
    "#dna_dict = { \"A\": \"T\", \"T\": \"A\", \"C\": \"G\", \"G\": \"C\" }\n",
    "dna = ( {\"A\", \"T\"}, {\"G\", \"C\"} )\n",
    "\n",
    "dna1 = \"ACCAGGATGA\"\n",
    "dna2 = \"TGGACCAGGT\"\n",
    "\n",
    "print(dna1)\n",
    "\n",
    "print(\"\".join(\"|\" if {i, j} in dna else \".\" for i, j in zip(dna1, dna2)))\n",
    "\n",
    "#for i, j in zip(dna1, dna2):\n",
    "#    if {i, j} in dna:\n",
    "#        print(\"|\", end='')\n",
    "#    else:\n",
    "#        print(\".\", end='')\n",
    "#print()\n",
    "\n",
    "#for i in range(len(dna1)):\n",
    "#    if dna_dict[dna1[i]] == dna2[i]:\n",
    "#        print(\"|\", end='')\n",
    "#    else:\n",
    "#        print(\".\", end='')  \n",
    "#print()\n",
    "\n",
    "print(dna2)\n",
    "\n"
   ]
  },
  {
   "cell_type": "code",
   "execution_count": null,
   "id": "3f5fec95-2c03-40e0-8723-3472f7a4339a",
   "metadata": {},
   "outputs": [],
   "source": []
  }
 ],
 "metadata": {
  "kernelspec": {
   "display_name": "Python 3 (ipykernel)",
   "language": "python",
   "name": "python3"
  },
  "language_info": {
   "codemirror_mode": {
    "name": "ipython",
    "version": 3
   },
   "file_extension": ".py",
   "mimetype": "text/x-python",
   "name": "python",
   "nbconvert_exporter": "python",
   "pygments_lexer": "ipython3",
   "version": "3.10.9"
  }
 },
 "nbformat": 4,
 "nbformat_minor": 5
}

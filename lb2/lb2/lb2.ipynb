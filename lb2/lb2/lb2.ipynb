{
 "cells": [
  {
   "cell_type": "code",
   "execution_count": 1,
   "id": "d62b7316-f87e-433c-93e5-607d8f5ce414",
   "metadata": {
    "tags": []
   },
   "outputs": [
    {
     "data": {
      "text/plain": [
       "[1, 4, 9, 16, 25, 36, 49, 64, 81, 100]"
      ]
     },
     "execution_count": 1,
     "metadata": {},
     "output_type": "execute_result"
    }
   ],
   "source": [
    "#l = [ f(i) for i in X if g(i) ]\n",
    "\n",
    "l = [ i**2 for i in range(1, 11) ]\n",
    "l"
   ]
  },
  {
   "cell_type": "code",
   "execution_count": 2,
   "id": "3dc8adcb-7403-4058-bf3d-4faac9b59fb8",
   "metadata": {
    "tags": []
   },
   "outputs": [
    {
     "data": {
      "text/plain": [
       "[1, 9, 25, 49, 81, 121, 169, 225, 289, 361]"
      ]
     },
     "execution_count": 2,
     "metadata": {},
     "output_type": "execute_result"
    }
   ],
   "source": [
    "l = [ i**2 for i in range(1, 21) if i%2 == 1 ]\n",
    "l"
   ]
  },
  {
   "cell_type": "code",
   "execution_count": 3,
   "id": "2b76f711-32ce-4619-bb5c-a324a68195c3",
   "metadata": {
    "tags": []
   },
   "outputs": [
    {
     "data": {
      "text/plain": [
       "[0.3333333333333333,\n",
       " 3.0,\n",
       " 8.333333333333334,\n",
       " 16.333333333333332,\n",
       " 27.0,\n",
       " 40.333333333333336,\n",
       " 56.333333333333336,\n",
       " 75.0,\n",
       " 96.33333333333333,\n",
       " 120.33333333333333]"
      ]
     },
     "execution_count": 3,
     "metadata": {},
     "output_type": "execute_result"
    }
   ],
   "source": [
    "l1 = [ i/3 for i in l ]\n",
    "l1"
   ]
  },
  {
   "cell_type": "code",
   "execution_count": 6,
   "id": "f89a49bb-9c2b-43ef-8692-3e990671226d",
   "metadata": {
    "tags": []
   },
   "outputs": [],
   "source": [
    "l = [ i**j for i in range(1, 21) for j in range(1, i) ]\n",
    "#l"
   ]
  },
  {
   "cell_type": "code",
   "execution_count": 8,
   "id": "a8370120-3030-4cc6-8f04-032cf181d3d3",
   "metadata": {
    "tags": []
   },
   "outputs": [
    {
     "data": {
      "text/plain": [
       "[[1, 2, 3, 4, 5],\n",
       " [1, 4, 9, 16, 25],\n",
       " [1, 8, 27, 64, 125],\n",
       " [1, 16, 81, 256, 625],\n",
       " [1, 32, 243, 1024, 3125]]"
      ]
     },
     "execution_count": 8,
     "metadata": {},
     "output_type": "execute_result"
    }
   ],
   "source": [
    "l = [ [ i**j for i in range(1, 6) ] for j in range(1, 6) ]\n",
    "l"
   ]
  },
  {
   "cell_type": "code",
   "execution_count": 9,
   "id": "13349700-e127-4ad4-9352-213543ed0d29",
   "metadata": {
    "tags": []
   },
   "outputs": [
    {
     "data": {
      "text/plain": [
       "['x', 'o', 'x', 'o', 'x', 'o', 'x', 'o', 'x', 'o']"
      ]
     },
     "execution_count": 9,
     "metadata": {},
     "output_type": "execute_result"
    }
   ],
   "source": [
    "l = [ \"x\" if i%2 == 0 else \"o\" for i in range(10) ]\n",
    "l"
   ]
  },
  {
   "cell_type": "code",
   "execution_count": 10,
   "id": "d0683165-3d6b-4c2b-938a-23c275eb9d81",
   "metadata": {
    "tags": []
   },
   "outputs": [
    {
     "data": {
      "text/plain": [
       "'x.x..x...'"
      ]
     },
     "execution_count": 10,
     "metadata": {},
     "output_type": "execute_result"
    }
   ],
   "source": [
    "\"x\".join(\".\" * i for i in range(4))"
   ]
  },
  {
   "cell_type": "code",
   "execution_count": 15,
   "id": "fbf2c66d-cb57-4157-a980-582a10271de8",
   "metadata": {
    "tags": []
   },
   "outputs": [
    {
     "data": {
      "text/plain": [
       "generator"
      ]
     },
     "execution_count": 15,
     "metadata": {},
     "output_type": "execute_result"
    }
   ],
   "source": [
    "k = (i**2 for i in range(10))\n",
    "type(k)"
   ]
  },
  {
   "cell_type": "code",
   "execution_count": 16,
   "id": "b07a7b33-0336-452b-882c-13b65dea5b48",
   "metadata": {
    "tags": []
   },
   "outputs": [
    {
     "name": "stdout",
     "output_type": "stream",
     "text": [
      "0\n",
      "1\n",
      "4\n",
      "9\n",
      "16\n",
      "25\n",
      "36\n",
      "49\n",
      "64\n",
      "81\n"
     ]
    }
   ],
   "source": [
    "for i in k:\n",
    "    print(i)"
   ]
  },
  {
   "cell_type": "code",
   "execution_count": null,
   "id": "c0e83382-bea7-4ba3-bfae-b80a6435deae",
   "metadata": {},
   "outputs": [],
   "source": []
  }
 ],
 "metadata": {
  "kernelspec": {
   "display_name": "Python 3 (ipykernel)",
   "language": "python",
   "name": "python3"
  },
  "language_info": {
   "codemirror_mode": {
    "name": "ipython",
    "version": 3
   },
   "file_extension": ".py",
   "mimetype": "text/x-python",
   "name": "python",
   "nbconvert_exporter": "python",
   "pygments_lexer": "ipython3",
   "version": "3.10.9"
  }
 },
 "nbformat": 4,
 "nbformat_minor": 5
}

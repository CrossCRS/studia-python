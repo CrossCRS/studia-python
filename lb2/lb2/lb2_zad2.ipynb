{
 "cells": [
  {
   "cell_type": "code",
   "execution_count": 12,
   "id": "1cd217c1-9ed2-4247-b724-16bfe5b5b2bf",
   "metadata": {
    "tags": []
   },
   "outputs": [
    {
     "name": "stdout",
     "output_type": "stream",
     "text": [
      "ACCTGACCCAGGGTTGGAACTTTGCAGATT\n",
      "TGGACTGGGTCCCAACCTTGAAACGTCTAA\n"
     ]
    }
   ],
   "source": [
    "dna_dict = { \"A\": \"T\", \"T\": \"A\", \"C\": \"G\", \"G\": \"C\" }\n",
    "dna1 = \"ACCTGACCCAGGGTTGGAACTTTGCAGATT\"\n",
    "dna2 = \"\".join(dna_dict[c] for c in dna1)\n",
    "print(dna1)\n",
    "print(dna2)"
   ]
  },
  {
   "cell_type": "code",
   "execution_count": null,
   "id": "829c1e01-2e62-4497-8755-6039460f12b1",
   "metadata": {},
   "outputs": [],
   "source": []
  }
 ],
 "metadata": {
  "kernelspec": {
   "display_name": "Python 3 (ipykernel)",
   "language": "python",
   "name": "python3"
  },
  "language_info": {
   "codemirror_mode": {
    "name": "ipython",
    "version": 3
   },
   "file_extension": ".py",
   "mimetype": "text/x-python",
   "name": "python",
   "nbconvert_exporter": "python",
   "pygments_lexer": "ipython3",
   "version": "3.10.9"
  }
 },
 "nbformat": 4,
 "nbformat_minor": 5
}

{
 "cells": [
  {
   "cell_type": "code",
   "execution_count": 6,
   "metadata": {},
   "outputs": [
    {
     "name": "stdout",
     "output_type": "stream",
     "text": [
      "[2, 2, 4, 10, 14, 8, 10, 22, 26, 14, 16, 34, 38, 20, 22, 46, 50, 26, 28, 58]\n"
     ]
    }
   ],
   "source": [
    "# Cwiczenie 8\n",
    "l = list(range(1,31))\n",
    "\n",
    "new_l = list(map(lambda x: x * 2 if x % 2 != 0 else x, filter(lambda x: x % 3 != 0, l)))\n",
    "print(new_l)"
   ]
  },
  {
   "cell_type": "code",
   "execution_count": 7,
   "metadata": {},
   "outputs": [
    {
     "name": "stdout",
     "output_type": "stream",
     "text": [
      "['123', '42']\n"
     ]
    }
   ],
   "source": [
    "# Cwiczenie 9\n",
    "l = [\"ala\", \"123\", \"abc7\", \"42\"]\n",
    "\n",
    "new_l = list(filter(lambda x: x.isnumeric(), l))\n",
    "print(new_l)"
   ]
  },
  {
   "cell_type": "code",
   "execution_count": 31,
   "metadata": {},
   "outputs": [
    {
     "name": "stdout",
     "output_type": "stream",
     "text": [
      "[123, 42]\n"
     ]
    }
   ],
   "source": [
    "# Cwiczenie 10\n",
    "l = [\"ala\", \"123\", \"abc7\", \"\", \"42\"]\n",
    "\n",
    "new_l = list(map(lambda x: int(x), filter(lambda x: x.isnumeric(), l)))\n",
    "print(new_l)"
   ]
  },
  {
   "cell_type": "code",
   "execution_count": 11,
   "metadata": {},
   "outputs": [
    {
     "name": "stdout",
     "output_type": "stream",
     "text": [
      "[('ala', 'ma'), ('hello', 'world')]\n"
     ]
    }
   ],
   "source": [
    "# Cwiczenie 11\n",
    "l = [(\"ala\", \"ma\", \"kota\"), (\"jeden\",), (\"hello\", \"world\")]\n",
    "\n",
    "new_l = list(map(lambda x: x[:2], filter(lambda x: len(x) >= 2, l)))\n",
    "print(new_l)"
   ]
  },
  {
   "cell_type": "code",
   "execution_count": 13,
   "metadata": {},
   "outputs": [
    {
     "name": "stdout",
     "output_type": "stream",
     "text": [
      "[(2, 2), (4, 2)]\n"
     ]
    }
   ],
   "source": [
    "# Cwiczenie 12\n",
    "l = [(1, 2), (2, 2), (4, 2), (4, 3)]\n",
    "\n",
    "new_l = list(filter(lambda x: sum(x) % 2 == 0, l))\n",
    "print(new_l)"
   ]
  },
  {
   "cell_type": "code",
   "execution_count": 33,
   "metadata": {},
   "outputs": [
    {
     "name": "stdout",
     "output_type": "stream",
     "text": [
      "[(3, 9), (3, 9, 27)]\n"
     ]
    }
   ],
   "source": [
    "# Cwiczenie 13\n",
    "l = [(3, 9), (3, 2), (3, 9, 27)]\n",
    "\n",
    "# new_l = list(filter(lambda x: sum(x) % 3 == 0, l))\n",
    "# ALBO\n",
    "new_l = list(filter(lambda x: all(i % 3 == 0 for i in x), l))\n",
    "print(new_l)"
   ]
  },
  {
   "cell_type": "code",
   "execution_count": 17,
   "metadata": {},
   "outputs": [
    {
     "name": "stdout",
     "output_type": "stream",
     "text": [
      "[(1, 2, 3), (1, 27)]\n"
     ]
    }
   ],
   "source": [
    "# Cwiczenie 14\n",
    "l = [(2, 4), (1, 2, 3), (1, 27)]\n",
    "\n",
    "new_l = list(filter(lambda x: any(i % 3 == 0 for i in x), l))\n",
    "print(new_l)"
   ]
  },
  {
   "cell_type": "code",
   "execution_count": 37,
   "metadata": {},
   "outputs": [
    {
     "name": "stdout",
     "output_type": "stream",
     "text": [
      "['ala', 'witaj']\n"
     ]
    }
   ],
   "source": [
    "# Cwiczenie 15\n",
    "l = [\"hello\", \"ola \", \"ala ma kota\", \"   witaj swiecie\"]\n",
    "\n",
    "new_l = list(map(lambda x: x.strip().split(\" \", 1)[0], filter(lambda x: \" \" in x.strip(), l)))\n",
    "print(new_l)"
   ]
  },
  {
   "cell_type": "code",
   "execution_count": 29,
   "metadata": {},
   "outputs": [
    {
     "name": "stdout",
     "output_type": "stream",
     "text": [
      "True\n"
     ]
    }
   ],
   "source": [
    "# Cwiczenie 16 (??)\n",
    "l = [True, True, False, True, True, True]\n",
    "\n",
    "value = (not all(l)) == (False in l)\n",
    "print(value)"
   ]
  },
  {
   "cell_type": "code",
   "execution_count": 24,
   "metadata": {},
   "outputs": [
    {
     "name": "stdout",
     "output_type": "stream",
     "text": [
      "Kwadrat 4 = 16\n",
      "Prostokat 2x4 = 8\n",
      "Trapez 4,2,3 = 9.0\n"
     ]
    }
   ],
   "source": [
    "# Cwiczenie 21\n",
    "def pole(a, b = None, c = None):\n",
    "    if b == None and c == None:\n",
    "        return a * a\n",
    "    elif c == None:\n",
    "        return a * b\n",
    "    else:\n",
    "        return ((a + b) * c) / 2\n",
    "\n",
    "print(\"Kwadrat 4 = {}\".format(pole(4)))\n",
    "print(\"Prostokat 2x4 = {}\".format(pole(2, 4)))\n",
    "print(\"Trapez 4,2,3 = {}\".format(pole(4, 2, 3)))"
   ]
  },
  {
   "cell_type": "code",
   "execution_count": 25,
   "metadata": {},
   "outputs": [
    {
     "name": "stdout",
     "output_type": "stream",
     "text": [
      "[1, 1]\n"
     ]
    }
   ],
   "source": [
    "# Cwiczenie 24\n",
    "l = [lambda x:x+1, lambda x:x**2, lambda x:x%3]\n",
    "\n",
    "values = list(map(lambda f: f(1), filter(lambda f: f(0) == 0, l)))\n",
    "print(values)"
   ]
  }
 ],
 "metadata": {
  "kernelspec": {
   "display_name": "Python 3",
   "language": "python",
   "name": "python3"
  },
  "language_info": {
   "codemirror_mode": {
    "name": "ipython",
    "version": 3
   },
   "file_extension": ".py",
   "mimetype": "text/x-python",
   "name": "python",
   "nbconvert_exporter": "python",
   "pygments_lexer": "ipython3",
   "version": "3.10.10"
  },
  "orig_nbformat": 4
 },
 "nbformat": 4,
 "nbformat_minor": 2
}

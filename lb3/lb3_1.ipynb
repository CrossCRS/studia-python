{
 "cells": [
  {
   "cell_type": "code",
   "execution_count": 4,
   "id": "198e565e-0d65-4ff2-bad7-27f4ef218df2",
   "metadata": {
    "tags": []
   },
   "outputs": [
    {
     "data": {
      "text/plain": [
       "4"
      ]
     },
     "execution_count": 4,
     "metadata": {},
     "output_type": "execute_result"
    }
   ],
   "source": [
    "def kwadrat(x):\n",
    "    return x ** 2\n",
    "\n",
    "kwadrat(2)"
   ]
  },
  {
   "cell_type": "code",
   "execution_count": 5,
   "id": "2b1d1859-067f-4e30-a977-b3f50249f5e7",
   "metadata": {
    "tags": []
   },
   "outputs": [
    {
     "data": {
      "text/plain": [
       "'Ala nie ma nic.'"
      ]
     },
     "execution_count": 5,
     "metadata": {},
     "output_type": "execute_result"
    }
   ],
   "source": [
    "def concat(s1, s2 = \"nie ma\", s3 = \"nic\"):\n",
    "    return s1 + \" \" + s2 + \" \" + s3 + \".\"\n",
    "\n",
    "concat(\"Ala\")"
   ]
  },
  {
   "cell_type": "code",
   "execution_count": 6,
   "id": "5e48d31f-4d9a-49e9-afbd-ea61613e026a",
   "metadata": {
    "tags": []
   },
   "outputs": [
    {
     "data": {
      "text/plain": [
       "'Ala ma chomika.'"
      ]
     },
     "execution_count": 6,
     "metadata": {},
     "output_type": "execute_result"
    }
   ],
   "source": [
    "concat(\"Ala\", \"ma\", \"chomika\")"
   ]
  },
  {
   "cell_type": "code",
   "execution_count": 7,
   "id": "38b9de9d-facf-4ba6-b03a-8140a9b746e3",
   "metadata": {
    "tags": []
   },
   "outputs": [
    {
     "data": {
      "text/plain": [
       "'Ala nie ma chomika.'"
      ]
     },
     "execution_count": 7,
     "metadata": {},
     "output_type": "execute_result"
    }
   ],
   "source": [
    "concat(\"Ala\", s3 = \"chomika\")"
   ]
  },
  {
   "cell_type": "code",
   "execution_count": 17,
   "id": "351ea88e-a018-4a31-9d81-d9b170d15d66",
   "metadata": {
    "tags": []
   },
   "outputs": [
    {
     "name": "stdout",
     "output_type": "stream",
     "text": [
      "['x']\n"
     ]
    }
   ],
   "source": [
    "def add(l = None, element = \"x\"):\n",
    "    if l == None:\n",
    "        l = []\n",
    "        \n",
    "    l.append(element)\n",
    "    return l\n",
    "\n",
    "print(add())"
   ]
  },
  {
   "cell_type": "code",
   "execution_count": 21,
   "id": "d1101dbf-39f5-466a-b635-3c37d8f78d53",
   "metadata": {
    "tags": []
   },
   "outputs": [
    {
     "data": {
      "text/plain": [
       "5"
      ]
     },
     "execution_count": 21,
     "metadata": {},
     "output_type": "execute_result"
    }
   ],
   "source": [
    "def dlugosc(x):\n",
    "    if type(x) in (str, list, tuple, bytes, dict):\n",
    "        return len(x)\n",
    "    elif type(x) in (int, float, complex):\n",
    "        return abs(x)\n",
    "    else:\n",
    "        return None\n",
    "\n",
    "dlugosc([1, 2, 3, 4, 5])"
   ]
  },
  {
   "cell_type": "code",
   "execution_count": 29,
   "id": "77e6891a-9843-4740-918d-407dba9e7b2a",
   "metadata": {
    "tags": []
   },
   "outputs": [
    {
     "name": "stdout",
     "output_type": "stream",
     "text": [
      "('a', 1, [1, 2], 3, 4)\n",
      "{'b': 5, 'c': 'ala'}\n"
     ]
    },
    {
     "data": {
      "text/plain": [
       "1"
      ]
     },
     "execution_count": 29,
     "metadata": {},
     "output_type": "execute_result"
    }
   ],
   "source": [
    "def f(*args, **kwargs):\n",
    "    \"\"\" Dokumentacja funkcji \"\"\"\n",
    "    print(args)\n",
    "    print(kwargs)\n",
    "    return 1\n",
    "    \n",
    "f(\"a\", 1, [1,2], 3, 4, b = 5, c = \"ala\")"
   ]
  },
  {
   "cell_type": "code",
   "execution_count": 7,
   "id": "3e814369",
   "metadata": {},
   "outputs": [
    {
     "name": "stdout",
     "output_type": "stream",
     "text": [
      "15625\n",
      "6\n"
     ]
    }
   ],
   "source": [
    "i = 4\n",
    "def f(x):\n",
    "    global i\n",
    "    i = i + 2\n",
    "    return x**i\n",
    "\n",
    "print(f(5))\n",
    "print(i)"
   ]
  },
  {
   "cell_type": "code",
   "execution_count": 9,
   "id": "dcc15e83",
   "metadata": {},
   "outputs": [
    {
     "data": {
      "text/plain": [
       "1728"
      ]
     },
     "execution_count": 9,
     "metadata": {},
     "output_type": "execute_result"
    }
   ],
   "source": [
    "szescian = lambda x: x**3\n",
    "szescian(12)"
   ]
  }
 ],
 "metadata": {
  "kernelspec": {
   "display_name": "Python 3 (ipykernel)",
   "language": "python",
   "name": "python3"
  },
  "language_info": {
   "codemirror_mode": {
    "name": "ipython",
    "version": 3
   },
   "file_extension": ".py",
   "mimetype": "text/x-python",
   "name": "python",
   "nbconvert_exporter": "python",
   "pygments_lexer": "ipython3",
   "version": "3.10.10"
  }
 },
 "nbformat": 4,
 "nbformat_minor": 5
}
